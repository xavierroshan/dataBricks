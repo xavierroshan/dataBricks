{
 "cells": [
  {
   "cell_type": "markdown",
   "metadata": {
    "application/vnd.databricks.v1+cell": {
     "cellMetadata": {},
     "inputWidgets": {},
     "nuid": "ed5f043a-8b23-460c-b8cd-803c39f34dd5",
     "showTitle": false,
     "tableResultSettingsMap": {},
     "title": ""
    }
   },
   "source": [
    "I Creating a databricks workspace and connecting to azure storage\n",
    "1. Azure: Go to the azure and search for databricks. Enter the details and create a databricks workspace\n",
    "2. Azure: search for \"Access Connector for databrick\" in azure and create one\n",
    "3. Azure: Create a storage account and two containers one for source and one destination\n",
    "4. Azure: Go to storage account and give \"storage blob data contributor\" permission to the \"access connector for databricks\"\n",
    "5. Databricks: Go to catalogs and create a new storage credential and provide \"access connector ID\" to the storage credentials\n",
    "6. Databricks: create a new external location and provde the file path in the following format \"abfss://<container_name>@<storage_account_name>.dfs.core.windows.net/<path>/file.csv. also select the storage credentials you created earlier\n",
    "7. After the access the file from the notebook using the below command\n",
    "    file_path = \"abfss://source@rxdbstorageaccount.dfs.core.windows.net/Sales.csv\"\n",
    "    file_content = dbutils.fs.head(file_path)\n",
    "    print(file_content)\n"
   ]
  },
  {
   "cell_type": "code",
   "execution_count": 0,
   "metadata": {
    "application/vnd.databricks.v1+cell": {
     "cellMetadata": {
      "byteLimit": 2048000,
      "rowLimit": 10000
     },
     "inputWidgets": {},
     "nuid": "58ba61d9-e9ae-4a46-8956-d858f42fe8c0",
     "showTitle": false,
     "tableResultSettingsMap": {},
     "title": ""
    }
   },
   "outputs": [],
   "source": [
    "file_path = \"abfss://source@rxdbstorageaccount.dfs.core.windows.net/Sales.csv\"\n",
    "file_content = dbutils.fs.head(file_path)\n",
    "print(file_content) "
   ]
  }
 ],
 "metadata": {
  "application/vnd.databricks.v1+notebook": {
   "computePreferences": null,
   "dashboards": [],
   "environmentMetadata": {
    "base_environment": "",
    "environment_version": "2"
   },
   "inputWidgetPreferences": null,
   "language": "python",
   "notebookMetadata": {
    "mostRecentlyExecutedCommandWithImplicitDF": {
     "commandId": 6378110279689964,
     "dataframes": [
      "_sqldf"
     ]
    },
    "pythonIndentUnit": 4
   },
   "notebookName": "dbLearn",
   "widgets": {}
  },
  "language_info": {
   "name": "python"
  }
 },
 "nbformat": 4,
 "nbformat_minor": 0
}
