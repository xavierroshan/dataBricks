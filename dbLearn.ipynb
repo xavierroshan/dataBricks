{
 "cells": [
  {
   "cell_type": "markdown",
   "metadata": {
    "application/vnd.databricks.v1+cell": {
     "cellMetadata": {},
     "inputWidgets": {},
     "nuid": "ed5f043a-8b23-460c-b8cd-803c39f34dd5",
     "showTitle": false,
     "tableResultSettingsMap": {},
     "title": ""
    }
   },
   "source": [
    "# Databrick Tutorial\n",
    "### Creating a databricks workspace and connecting to azure storage\n",
    "1. Azure: Go to the azure and search for databricks. Enter the details and create a databricks workspace\n",
    "2. Azure: search for \"Access Connector for databrick\" in azure and create one\n",
    "3. Azure: Create a storage account and two containers one for source and one destination\n",
    "4. Azure: Go to storage account and give \"storage blob data contributor\" permission to the \"access connector for databricks\"\n",
    "5. Databricks: Go to catalogs and create a new storage credential and provide \"access connector ID\" to the storage credentials\n",
    "6. Databricks: create a new external location and provde the file path in the following format \"abfss://<container_name>@<storage_account_name>.dfs.core.windows.net/<path>/file.csv. also select the storage credentials you created earlier\n",
    "7. After the access the file from the notebook using the below command\n",
    "    file_path = \"abfss://source@rxdbstorageaccount.dfs.core.windows.net/Sales.csv\"\n",
    "    file_content = dbutils.fs.head(file_path)\n",
    "    print(file_content)\n"
   ]
  },
  {
   "cell_type": "markdown",
   "metadata": {
    "application/vnd.databricks.v1+cell": {
     "cellMetadata": {},
     "inputWidgets": {},
     "nuid": "862fd4fa-b453-4564-b827-fffdcd02b1d8",
     "showTitle": false,
     "tableResultSettingsMap": {},
     "title": ""
    }
   },
   "source": [
    "**Accessing a file in the Azure ADLS 2**"
   ]
  },
  {
   "cell_type": "code",
   "execution_count": 0,
   "metadata": {
    "application/vnd.databricks.v1+cell": {
     "cellMetadata": {
      "byteLimit": 2048000,
      "rowLimit": 10000
     },
     "collapsed": true,
     "inputWidgets": {},
     "nuid": "58ba61d9-e9ae-4a46-8956-d858f42fe8c0",
     "showTitle": false,
     "tableResultSettingsMap": {},
     "title": ""
    }
   },
   "outputs": [],
   "source": [
    "#Option 1\n",
    "file_path = \"abfss://source@rxdbstorageaccount.dfs.core.windows.net/Sales.csv\"\n",
    "file_content = dbutils.fs.head(file_path)\n",
    "print(file_content) \n",
    "\n",
    "#Option 2\n",
    "# df = spark.read.option(\"header\", \"true\").csv(\"abfss://source@rxdbstorageaccount.dfs.core.windows.net/Sales.csv\")\n",
    "# df.display()"
   ]
  },
  {
   "cell_type": "markdown",
   "metadata": {
    "application/vnd.databricks.v1+cell": {
     "cellMetadata": {},
     "inputWidgets": {},
     "nuid": "812060cd-bb28-492c-ba9d-6ef89912b1d8",
     "showTitle": false,
     "tableResultSettingsMap": {},
     "title": ""
    }
   },
   "source": [
    "**Listing files in a contaioner**"
   ]
  },
  {
   "cell_type": "code",
   "execution_count": 0,
   "metadata": {
    "application/vnd.databricks.v1+cell": {
     "cellMetadata": {
      "byteLimit": 2048000,
      "rowLimit": 10000
     },
     "collapsed": true,
     "inputWidgets": {},
     "nuid": "a3cf6c20-e1f1-4154-be6a-683283d8fb31",
     "showTitle": false,
     "tableResultSettingsMap": {},
     "title": ""
    }
   },
   "outputs": [],
   "source": [
    "display(dbutils.fs.ls(\"abfss://source@rxdbstorageaccount.dfs.core.windows.net/\"))\n",
    "\n"
   ]
  },
  {
   "cell_type": "markdown",
   "metadata": {
    "application/vnd.databricks.v1+cell": {
     "cellMetadata": {},
     "inputWidgets": {},
     "nuid": "444154e1-ae59-495f-8fe8-f661fbbbb9d8",
     "showTitle": false,
     "tableResultSettingsMap": {},
     "title": ""
    }
   },
   "source": [
    "**Copy file from one container to another**\n"
   ]
  },
  {
   "cell_type": "code",
   "execution_count": 0,
   "metadata": {
    "application/vnd.databricks.v1+cell": {
     "cellMetadata": {
      "byteLimit": 2048000,
      "rowLimit": 10000
     },
     "collapsed": true,
     "inputWidgets": {},
     "nuid": "f9053c1a-59fa-4b70-816b-32989849b35f",
     "showTitle": false,
     "tableResultSettingsMap": {},
     "title": ""
    }
   },
   "outputs": [],
   "source": [
    "df = spark.read.option(\"header\", \"true\").csv(\"abfss://source@rxdbstorageaccount.dfs.core.windows.net/Sales.csv\")\n",
    "df.write.mode(\"overwrite\").csv(\"abfss://destination@rxdbstorageaccount.dfs.core.windows.net/Sales_Copy\")\n"
   ]
  },
  {
   "cell_type": "code",
   "execution_count": 0,
   "metadata": {
    "application/vnd.databricks.v1+cell": {
     "cellMetadata": {
      "byteLimit": 2048000,
      "rowLimit": 10000
     },
     "collapsed": true,
     "inputWidgets": {},
     "nuid": "e25eb526-6844-4982-b5cf-3d68dc7efd63",
     "showTitle": false,
     "tableResultSettingsMap": {},
     "title": ""
    }
   },
   "outputs": [],
   "source": [
    "dbutils.fs.ls('/databricks-datasets/')"
   ]
  },
  {
   "cell_type": "markdown",
   "metadata": {
    "application/vnd.databricks.v1+cell": {
     "cellMetadata": {},
     "inputWidgets": {},
     "nuid": "cb1ff73f-494a-4784-8546-7b60a600fab1",
     "showTitle": false,
     "tableResultSettingsMap": {},
     "title": ""
    }
   },
   "source": [
    "## Transformations"
   ]
  },
  {
   "cell_type": "markdown",
   "metadata": {
    "application/vnd.databricks.v1+cell": {
     "cellMetadata": {},
     "inputWidgets": {},
     "nuid": "7b62aea4-2964-43af-901a-634cd96b547a",
     "showTitle": false,
     "tableResultSettingsMap": {},
     "title": ""
    }
   },
   "source": [
    "**Select() and Drop(**"
   ]
  },
  {
   "cell_type": "code",
   "execution_count": 0,
   "metadata": {
    "application/vnd.databricks.v1+cell": {
     "cellMetadata": {
      "byteLimit": 2048000,
      "rowLimit": 10000
     },
     "collapsed": true,
     "inputWidgets": {},
     "nuid": "38cd1bc9-906e-4c01-bbba-aed0084437e3",
     "showTitle": false,
     "tableResultSettingsMap": {
      "0": {
       "dataGridStateBlob": "{\"version\":1,\"tableState\":{\"columnPinning\":{\"left\":[\"#row_number#\"],\"right\":[]},\"columnSizing\":{},\"columnVisibility\":{}},\"settings\":{\"columns\":{}},\"syncTimestamp\":1752958637269}",
       "filterBlob": null,
       "queryPlanFiltersBlob": null,
       "tableResultIndex": 0
      }
     },
     "title": ""
    }
   },
   "outputs": [],
   "source": [
    "# Read the file from the Azure storage into a spark data frame\n",
    "df = spark.read.option(\"header\", \"true\").csv(\"abfss://source@rxdbstorageaccount.dfs.core.windows.net/Sales.csv\")\n",
    "#display the data in spark environment\n",
    "#df.display()\n",
    "df_select = df.select(\"Item_Identifier\", \"Item_Outlet_Sales\", \"Item_Weight\")\n",
    "\n",
    "#df_select.display()\n",
    "# not formatted highly and is suppoprted in opyspark\n",
    "#df_select.show()\n",
    "\n",
    "# drop specific columns from the data frame\n",
    "df_drop=df_select.drop(\"Item_Weight\")\n",
    "df_drop.display()\n",
    "\n"
   ]
  },
  {
   "cell_type": "markdown",
   "metadata": {
    "application/vnd.databricks.v1+cell": {
     "cellMetadata": {},
     "inputWidgets": {},
     "nuid": "0889b297-94bc-413c-82a7-c27cc5469625",
     "showTitle": false,
     "tableResultSettingsMap": {},
     "title": ""
    }
   },
   "source": [
    "**withColumnRenamed(), withColumn(), lit(), cast(), when()**"
   ]
  },
  {
   "cell_type": "code",
   "execution_count": 0,
   "metadata": {
    "application/vnd.databricks.v1+cell": {
     "cellMetadata": {
      "byteLimit": 2048000,
      "rowLimit": 10000
     },
     "collapsed": true,
     "inputWidgets": {},
     "nuid": "36598277-2199-4fa3-a272-b1b6fbda63f4",
     "showTitle": false,
     "tableResultSettingsMap": {
      "0": {
       "dataGridStateBlob": "{\"version\":1,\"tableState\":{\"columnPinning\":{\"left\":[\"#row_number#\"],\"right\":[]},\"columnSizing\":{},\"columnVisibility\":{}},\"settings\":{\"columns\":{}},\"syncTimestamp\":1752959913627}",
       "filterBlob": null,
       "queryPlanFiltersBlob": null,
       "tableResultIndex": 0
      }
     },
     "title": ""
    }
   },
   "outputs": [],
   "source": [
    "# df = spark.read.option(\"header\", \"True\").csv(\"abfss://source@rxdbstorageaccount.dfs.core.windows.net/Sales.csv\")\n",
    "# df = df.withColumnRenamed(\"Item_Identifier\", \"ItemID\")\n",
    "# df.display()\n",
    "\n",
    "import pyspark.sql.functions as F\n",
    "from pyspark.sql.functions import col, when, lit\n",
    "df = spark.read.option(\"header\", \"True\").csv(\"abfss://source@rxdbstorageaccount.dfs.core.windows.net/Sales.csv\")\n",
    "from pyspark.sql.types import FloatType\n",
    "df = df.withColumn(\"Item_Weight_Category\", when(col(\"Item_Weight\").cast(FloatType())>10, lit(\"high\")).otherwise(when (col(\"Item_Weight\").cast(FloatType())>5, lit(\"medium\")).otherwise(lit(\"low\"))))\n",
    "\n",
    "df.display()\n",
    "\n"
   ]
  },
  {
   "cell_type": "markdown",
   "metadata": {
    "application/vnd.databricks.v1+cell": {
     "cellMetadata": {},
     "inputWidgets": {},
     "nuid": "3ea30f28-5806-4098-8405-6aa996ce4edf",
     "showTitle": false,
     "tableResultSettingsMap": {},
     "title": ""
    }
   },
   "source": [
    "**alias(), cast(), upper()**"
   ]
  },
  {
   "cell_type": "code",
   "execution_count": 0,
   "metadata": {
    "application/vnd.databricks.v1+cell": {
     "cellMetadata": {
      "byteLimit": 2048000,
      "rowLimit": 10000
     },
     "collapsed": true,
     "inputWidgets": {},
     "nuid": "3aabb668-9549-4fb0-afa3-7e5427d8c484",
     "showTitle": false,
     "tableResultSettingsMap": {
      "0": {
       "dataGridStateBlob": "{\"version\":1,\"tableState\":{\"columnPinning\":{\"left\":[\"#row_number#\"],\"right\":[]},\"columnSizing\":{},\"columnVisibility\":{}},\"settings\":{\"columns\":{}},\"syncTimestamp\":1752971969907}",
       "filterBlob": null,
       "queryPlanFiltersBlob": null,
       "tableResultIndex": 0
      }
     },
     "title": ""
    }
   },
   "outputs": [],
   "source": [
    "from pyspark.sql.functions import col, upper\n",
    "df=spark.read.option(\"header\", \"true\").csv(\"abfss://source@rxdbstorageaccount.dfs.core.windows.net/Sales.csv\")\n",
    "#df.display()\n",
    "df=df.select(\"Item_Fat_Content\", \"Item_Identifier\", col(\"Item_Type\").alias(\"Item\"), \"Item_Weight\", \"Item_Visibility\", \"Item_MRP\", col(\"Item_Outlet_Sales\").cast(\"float\"), \"Outlet_Establishment_Year\", \"Outlet_Size\", upper(col(\"Outlet_Location_Type\")), \"Outlet_Type\")\n",
    "df.display()\n"
   ]
  },
  {
   "cell_type": "markdown",
   "metadata": {
    "application/vnd.databricks.v1+cell": {
     "cellMetadata": {},
     "inputWidgets": {},
     "nuid": "45a0bb11-8328-4fa9-979a-16a30b99b6ce",
     "showTitle": false,
     "tableResultSettingsMap": {},
     "title": ""
    }
   },
   "source": [
    "**schema()**"
   ]
  },
  {
   "cell_type": "code",
   "execution_count": 0,
   "metadata": {
    "application/vnd.databricks.v1+cell": {
     "cellMetadata": {
      "byteLimit": 2048000,
      "rowLimit": 10000
     },
     "collapsed": true,
     "inputWidgets": {},
     "nuid": "ef4f22f1-c774-4bd0-aab2-15d3410c1281",
     "showTitle": false,
     "tableResultSettingsMap": {},
     "title": ""
    }
   },
   "outputs": [],
   "source": [
    "from pyspark.sql.types import StructType, StructField, StringType, IntegerType, FloatType\n",
    "\n",
    "schema= StructType([\n",
    "    StructField(\"Item_Identifier\", StringType(), True),\n",
    "    StructField(\"Item_Weight\", FloatType(), True),\n",
    "    StructField(\"Item_Fat_Content\", StringType(), True),\n",
    "    StructField(\"Item_Visibility\", FloatType(), True),\n",
    "    StructField(\"Item_Type\", StringType(), True),\n",
    "    StructField(\"Item_MRP\", FloatType(), True),\n",
    "    StructField(\"Outlet_Identifier\", StringType(), True),\n",
    "    StructField(\"Outlet_Establishment_Year\", IntegerType(), True),\n",
    "    StructField(\"Outlet_Size\", StringType(), True),\n",
    "    StructField(\"Outlet_Location_Type\", StringType(), True),\n",
    "    StructField(\"Outlet_Type\", StringType(), True),\n",
    "    StructField(\"Item_Outlet_Sales\", FloatType(), True)\n",
    "])\n",
    "\n",
    "df = spark.read.option(\"header\", \"true\").schema(schema).csv(\"abfss://source@rxdbstorageaccount.dfs.core.windows.net/Sales.csv\")\n",
    "\n",
    "# df.schema\n",
    "# df.printSchema()\n",
    "# df.schema.fieldNames()\n",
    "# df.columns\n"
   ]
  },
  {
   "cell_type": "markdown",
   "metadata": {
    "application/vnd.databricks.v1+cell": {
     "cellMetadata": {},
     "inputWidgets": {},
     "nuid": "12fb6581-b3ea-400b-8f1a-a2a57c7076e6",
     "showTitle": false,
     "tableResultSettingsMap": {},
     "title": ""
    }
   },
   "source": [
    "**String Transformations - lower()/upper(), trim()/ltrim(), rtrim(), substring(), concat()/concat_ws()**"
   ]
  },
  {
   "cell_type": "code",
   "execution_count": 0,
   "metadata": {
    "application/vnd.databricks.v1+cell": {
     "cellMetadata": {
      "byteLimit": 2048000,
      "rowLimit": 10000
     },
     "collapsed": true,
     "inputWidgets": {},
     "nuid": "4b569304-6c6a-477b-b2ff-4631451e0b3b",
     "showTitle": false,
     "tableResultSettingsMap": {
      "0": {
       "dataGridStateBlob": "{\"version\":1,\"tableState\":{\"columnPinning\":{\"left\":[\"#row_number#\"],\"right\":[]},\"columnSizing\":{},\"columnVisibility\":{}},\"settings\":{\"columns\":{}},\"syncTimestamp\":1752974797761}",
       "filterBlob": null,
       "queryPlanFiltersBlob": null,
       "tableResultIndex": 0
      }
     },
     "title": ""
    }
   },
   "outputs": [],
   "source": [
    "\n",
    "from pyspark.sql.functions import lower, upper, col, concat, trim, substring\n",
    "df=spark.read.option(\"header\", \"true\").csv(\"abfss://source@rxdbstorageaccount.dfs.core.windows.net/Sales.csv\")\n",
    "df= df.select(lower(\"Item_Identifier\").alias(\"Item_Identifier\"), \"Item_Weight\", upper(\"Item_Fat_Content\"), \"Item_Visibility\", trim(col(\"Item_Type\")), \"Item_MRP\", \"Outlet_Identifier\", \"Outlet_Establishment_Year\", \"Outlet_Size\", \"Outlet_Location_Type\", \"Outlet_Type\", \"Item_Outlet_Sales\", concat(\"Outlet_Identifier\", lit(\"_\"),\"Outlet_Establishment_Year\").alias(\"Outlet\"), substring(\"Outlet_Establishment_Year\",-2,2)).alias(\"Year\")\n",
    "df.display()"
   ]
  },
  {
   "cell_type": "markdown",
   "metadata": {
    "application/vnd.databricks.v1+cell": {
     "cellMetadata": {},
     "inputWidgets": {},
     "nuid": "f0feb81a-e40d-49a0-858f-c698ddf45f06",
     "showTitle": false,
     "tableResultSettingsMap": {},
     "title": ""
    }
   },
   "source": [
    "**String Transformation - regexp_extract()/regexp_repplace()**"
   ]
  },
  {
   "cell_type": "code",
   "execution_count": 0,
   "metadata": {
    "application/vnd.databricks.v1+cell": {
     "cellMetadata": {
      "byteLimit": 2048000,
      "rowLimit": 10000
     },
     "collapsed": true,
     "inputWidgets": {},
     "nuid": "261777bd-6373-41cc-9a87-029b660ab04f",
     "showTitle": false,
     "tableResultSettingsMap": {
      "0": {
       "dataGridStateBlob": "{\"version\":1,\"tableState\":{\"columnPinning\":{\"left\":[\"#row_number#\"],\"right\":[]},\"columnSizing\":{},\"columnVisibility\":{}},\"settings\":{\"columns\":{}},\"syncTimestamp\":1752977220660}",
       "filterBlob": null,
       "queryPlanFiltersBlob": null,
       "tableResultIndex": 0
      }
     },
     "title": ""
    }
   },
   "outputs": [],
   "source": [
    "from pyspark.sql.functions import regexp_extract, regexp_replace\n",
    "df=spark.read.option(\"header\", \"true\").csv(\"abfss://source@rxdbstorageaccount.dfs.core.windows.net/Sales.csv\")\n",
    "#df.display()\n",
    "df= df.select(\"Item_Identifier\", \"Item_Weight\", regexp_replace(\"Item_Fat_Content\",\"\\s*Low\\s+Fat\\s*\",\"High Fat\"), \"Item_Visibility\", \"Item_Type\", \"Item_MRP\", \"Outlet_Identifier\", \"Outlet_Establishment_Year\", \"Outlet_Size\", \"Outlet_Location_Type\", \"Outlet_Type\", \"Item_Outlet_Sales\", regexp_extract(\"Item_Fat_Content\", \"^(Low|Regular)\", 1).alias(\"Item_Fat_Content\",))\n",
    "df.display()\n"
   ]
  },
  {
   "cell_type": "markdown",
   "metadata": {
    "application/vnd.databricks.v1+cell": {
     "cellMetadata": {},
     "inputWidgets": {},
     "nuid": "81dc6976-c255-4232-83e3-a28a9cf386e4",
     "showTitle": false,
     "tableResultSettingsMap": {},
     "title": ""
    }
   },
   "source": [
    "**Numeric Transformations round()/bround(),floor(), ceil()**"
   ]
  },
  {
   "cell_type": "code",
   "execution_count": 0,
   "metadata": {
    "application/vnd.databricks.v1+cell": {
     "cellMetadata": {
      "byteLimit": 2048000,
      "rowLimit": 10000
     },
     "collapsed": true,
     "inputWidgets": {},
     "nuid": "7ad8c933-db79-4cc2-9c99-2c87438afb10",
     "showTitle": false,
     "tableResultSettingsMap": {
      "0": {
       "dataGridStateBlob": "{\"version\":1,\"tableState\":{\"columnPinning\":{\"left\":[\"#row_number#\"],\"right\":[]},\"columnSizing\":{},\"columnVisibility\":{}},\"settings\":{\"columns\":{}},\"syncTimestamp\":1752978650768}",
       "filterBlob": null,
       "queryPlanFiltersBlob": null,
       "tableResultIndex": 0
      }
     },
     "title": "em_Weight"
    },
    "jupyter": {
     "outputs_hidden": true
    }
   },
   "outputs": [],
   "source": [
    "from pyspark.sql.functions import round, bround, floor, ceil\n",
    "df = spark.read.option(\"header\", \"True\").csv(\"abfss://source@rxdbstorageaccount.dfs.core.windows.net/Sales.csv\")\n",
    "df = df.select(\"Item_Identifier\", round(\"Item_Weight\",3), \"Item_Fat_Content\", bround(\"Item_Visibility\",3), \"Item_Visibility\", \"Item_Type\", floor(\"Item_MRP\"), \"Outlet_Identifier\", \"Outlet_Establishment_Year\", \"Outlet_Size\", \"Outlet_Location_Type\", \"Outlet_Type\", \"Item_Outlet_Sales\")\n",
    "df.display()"
   ]
  },
  {
   "cell_type": "markdown",
   "metadata": {
    "application/vnd.databricks.v1+cell": {
     "cellMetadata": {},
     "inputWidgets": {},
     "nuid": "2d1c62b8-0f40-4fd0-8681-059b17921fe1",
     "showTitle": false,
     "tableResultSettingsMap": {},
     "title": ""
    }
   },
   "source": [
    "**Null Handling - fillna, filter, isin**"
   ]
  },
  {
   "cell_type": "code",
   "execution_count": 0,
   "metadata": {
    "application/vnd.databricks.v1+cell": {
     "cellMetadata": {
      "byteLimit": 2048000,
      "rowLimit": 10000
     },
     "collapsed": true,
     "inputWidgets": {},
     "nuid": "9fcc83ee-ccfd-4084-a4dd-bb3ca83bef8d",
     "showTitle": false,
     "tableResultSettingsMap": {},
     "title": ""
    }
   },
   "outputs": [],
   "source": [
    "from pyspark.sql.types import StringType, StructField, StructType, FloatType, IntegerType\n",
    "from pyspark.sql.functions import lit, col, when\n",
    "\n",
    "schema = StructType([\n",
    "    StructField('Item_Identifier', StringType(), True),\n",
    "    StructField('Item_Weight', FloatType(), True),\n",
    "    StructField('Item_Fat_Content', StringType(), True),\n",
    "    StructField('Item_Visibility', FloatType(), True),\n",
    "    StructField('Item_Type', StringType(), True),\n",
    "    StructField('Item_MRP', FloatType(), True),\n",
    "    StructField('Outlet_Identifier', StringType(), True),\n",
    "    StructField('Outlet_Establishment_Year', IntegerType(), True),\n",
    "    StructField('Outlet_Size', StringType(), True),\n",
    "    StructField('Outlet_Location_Type', StringType(), True),\n",
    "    StructField('Outlet_Type', StringType(), True),\n",
    "    StructField('Item_Outlet_Sales', FloatType(), True  )\n",
    "])\n",
    "df = spark.read.option(\"header\", \"True\").schema(schema).csv(\"abfss://source@rxdbstorageaccount.dfs.core.windows.net/Sales.csv\")\n",
    "# df.display()\n",
    "df=df.fillna({\"Item_Identifier\": \"Unknown\", \"Item_Weight\": 0.0, \"Item_Fat_Content\":\"Unknown\", \"Item_Visibility\": 0.0, \"Item_Type\": \"Unknown\", \"Item_MRP\": 0.0, \"Outlet_Identifier\": \"Unknown\", \"Outlet_Establishment_Year\": 0, \"Outlet_Size\": \"Unknown\", \"Outlet_Location_Type\": \"Unknown\", \"Outlet_Type\": \"Unknown\", \"Item_Outlet_Sales\": 0.0})\n",
    "#df_fill.display()\n",
    "#df=df.filter((col(\"Outlet_Size\")=='Unknown') | ((col(\"Outlet_Location_Type\")=='Unknown') | (col(\"Outlet_Type\")=='Unknown')))\n",
    "df=df.filter((col(\"Item_Type\").isin([\"Fruits and Vegetables\", \"Snack Foods\"])))\n",
    "df.display()\n"
   ]
  },
  {
   "cell_type": "markdown",
   "metadata": {
    "application/vnd.databricks.v1+cell": {
     "cellMetadata": {},
     "inputWidgets": {},
     "nuid": "0b687bef-a455-4d00-91b5-ad9d4af6101c",
     "showTitle": false,
     "tableResultSettingsMap": {},
     "title": ""
    }
   },
   "source": [
    "**Null Handling - fillna, filter, na.replace**"
   ]
  },
  {
   "cell_type": "code",
   "execution_count": 0,
   "metadata": {
    "application/vnd.databricks.v1+cell": {
     "cellMetadata": {
      "byteLimit": 2048000,
      "rowLimit": 10000
     },
     "collapsed": true,
     "inputWidgets": {},
     "nuid": "a869f308-bded-47e6-9b01-40fa2295464b",
     "showTitle": false,
     "tableResultSettingsMap": {
      "0": {
       "dataGridStateBlob": "{\"version\":1,\"tableState\":{\"columnPinning\":{\"left\":[\"#row_number#\"],\"right\":[]},\"columnSizing\":{},\"columnVisibility\":{}},\"settings\":{\"columns\":{}},\"syncTimestamp\":1753061160284}",
       "filterBlob": null,
       "queryPlanFiltersBlob": null,
       "tableResultIndex": 0
      }
     },
     "title": ""
    }
   },
   "outputs": [],
   "source": [
    "from pyspark.sql.types import StringType, StructField, StructType, FloatType, IntegerType\n",
    "from pyspark.sql.functions import lit, col, when\n",
    "df = spark.read.option(\"header\", \"True\").schema(schema).csv(\"abfss://source@rxdbstorageaccount.dfs.core.windows.net/Sales.csv\")\n",
    "# df=df.dropna(how='all')\n",
    "# df=df.dropna(how='any')\n",
    "# df=df.dropna(thresh=1)\n",
    "# df=df.dropna(subset=[\"Outlet_Size\", \"Outlet_Location_Type\", \"Outlet_Type\"])\n",
    "#df=df.filter(col(\"Item_Weight\").isNull())\n",
    "#df=df.filter(col(\"Item_Weight\").isNotNull())\n",
    "df=df.na.replace([\"\", \"Null\", \"n/a\"], None)\n",
    "df.display()\n"
   ]
  },
  {
   "cell_type": "markdown",
   "metadata": {
    "application/vnd.databricks.v1+cell": {
     "cellMetadata": {},
     "inputWidgets": {},
     "nuid": "a6b438b4-f3e6-4829-987f-475c66c51c34",
     "showTitle": false,
     "tableResultSettingsMap": {},
     "title": ""
    }
   },
   "source": [
    "**Row Level Operations - filter, where**"
   ]
  },
  {
   "cell_type": "code",
   "execution_count": 0,
   "metadata": {
    "application/vnd.databricks.v1+cell": {
     "cellMetadata": {
      "byteLimit": 2048000,
      "rowLimit": 10000
     },
     "collapsed": true,
     "inputWidgets": {},
     "nuid": "e2dd4bcc-8d8e-42d3-8302-2e623059b39f",
     "showTitle": false,
     "tableResultSettingsMap": {},
     "title": ""
    }
   },
   "outputs": [],
   "source": [
    "from pyspark.sql.types import StringType, StructField, StructType, FloatType, IntegerType\n",
    "from pyspark.sql.functions import lit, col, when\n",
    "df = spark.read.option(\"header\", \"True\").schema(schema).csv(\"abfss://source@rxdbstorageaccount.dfs.core.windows.net/Sales.csv\")\n",
    "df = df.where((col(\"Item_Weight\") > 10) & (col(\"Item_Type\").isin([\"Fruits and Vegetables\", \"Snack Foods\"])))\n",
    "df = df.display()\n"
   ]
  },
  {
   "cell_type": "markdown",
   "metadata": {
    "application/vnd.databricks.v1+cell": {
     "cellMetadata": {},
     "inputWidgets": {},
     "nuid": "bc07608a-c182-4ab5-8aa1-691bc08d9d48",
     "showTitle": false,
     "tableResultSettingsMap": {},
     "title": ""
    }
   },
   "source": [
    "**distinct(),dropDuplicates(), limit()**\n"
   ]
  },
  {
   "cell_type": "code",
   "execution_count": 0,
   "metadata": {
    "application/vnd.databricks.v1+cell": {
     "cellMetadata": {
      "byteLimit": 2048000,
      "rowLimit": 10000
     },
     "collapsed": true,
     "inputWidgets": {},
     "nuid": "9c7d84b1-14ed-4ff8-b692-d3c31763994c",
     "showTitle": false,
     "tableResultSettingsMap": {},
     "title": ""
    }
   },
   "outputs": [],
   "source": [
    "df = spark.read.option(\"header\", \"True\").schema(schema).csv(\"abfss://source@rxdbstorageaccount.dfs.core.windows.net/Sales.csv\")\n",
    "#df.display()\n",
    "df=df.distinct()\n",
    "df=df.dropDuplicates([\"Item_Fat_Content\"])\n",
    "df.limit(3).display()"
   ]
  },
  {
   "cell_type": "markdown",
   "metadata": {
    "application/vnd.databricks.v1+cell": {
     "cellMetadata": {},
     "inputWidgets": {},
     "nuid": "0bcf4e9a-361a-4fb1-8169-c14db76a7f96",
     "showTitle": false,
     "tableResultSettingsMap": {},
     "title": ""
    }
   },
   "source": [
    "**sample() orderBy() / sort()**"
   ]
  },
  {
   "cell_type": "code",
   "execution_count": 0,
   "metadata": {
    "application/vnd.databricks.v1+cell": {
     "cellMetadata": {
      "byteLimit": 2048000,
      "rowLimit": 10000
     },
     "collapsed": true,
     "inputWidgets": {},
     "nuid": "074a675d-5aba-42bf-b3c3-caf3f92df8db",
     "showTitle": false,
     "tableResultSettingsMap": {},
     "title": ""
    }
   },
   "outputs": [],
   "source": [
    "df = spark.read.option(\"header\", \"True\").schema(schema).csv(\"abfss://source@rxdbstorageaccount.dfs.core.windows.net/Sales.csv\")\n",
    "df=df.sample(withReplacement=False,fraction=0.1)\n",
    "#df.display()\n",
    "#df=df.orderBy(\"Item_Type\",ascending = False)\n",
    "df=df.sort([\"Item_Type\", \"Outlet_Identifier\"], ascending=[True, True])\n",
    "df.display()"
   ]
  },
  {
   "cell_type": "markdown",
   "metadata": {
    "application/vnd.databricks.v1+cell": {
     "cellMetadata": {},
     "inputWidgets": {},
     "nuid": "eefb0545-bbc5-486d-ae8c-7d4e655bc33c",
     "showTitle": false,
     "tableResultSettingsMap": {},
     "title": ""
    }
   },
   "source": [
    "### Aggregations\n"
   ]
  },
  {
   "cell_type": "markdown",
   "metadata": {
    "application/vnd.databricks.v1+cell": {
     "cellMetadata": {},
     "inputWidgets": {},
     "nuid": "dd5571c2-f1f2-46c2-b972-0331483d6dd8",
     "showTitle": false,
     "tableResultSettingsMap": {},
     "title": ""
    }
   },
   "source": [
    "**groupBy(),agg()**"
   ]
  },
  {
   "cell_type": "code",
   "execution_count": 0,
   "metadata": {
    "application/vnd.databricks.v1+cell": {
     "cellMetadata": {
      "byteLimit": 2048000,
      "rowLimit": 10000
     },
     "collapsed": true,
     "inputWidgets": {},
     "nuid": "683f49df-ae60-4d19-90c2-4356ae65f03e",
     "showTitle": false,
     "tableResultSettingsMap": {
      "0": {
       "dataGridStateBlob": "{\"version\":1,\"tableState\":{\"columnPinning\":{\"left\":[\"#row_number#\"],\"right\":[]},\"columnSizing\":{},\"columnVisibility\":{}},\"settings\":{\"columns\":{}},\"syncTimestamp\":1753068266365}",
       "filterBlob": null,
       "queryPlanFiltersBlob": null,
       "tableResultIndex": 0
      }
     },
     "title": ""
    }
   },
   "outputs": [],
   "source": [
    "from pyspark.sql.functions import sum,avg,min,max,count\n",
    "\n",
    "df = spark.read.option(\"header\", \"True\").schema(schema).csv(\"abfss://source@rxdbstorageaccount.dfs.core.windows.net/Sales.csv\")\n",
    "#df=df.groupBy(\"Item_Fat_Content\").agg(count(\"Item_Outlet_Sales\"))\n",
    "# df=df.groupBy(\"Item_Fat_Content\").agg(sum(col(\"Item_Outlet_Sales\")).alias(\"Total Sales\"))\n",
    "#df=df.groupBy(\"Item_Fat_Content\").agg(avg(col(\"Item_Outlet_Sales\")).alias(\"Average Sales\"))\n",
    "#df=df.groupBy(\"Item_Fat_Content\").agg(min(col(\"Item_Outlet_Sales\")).alias(\"Lowest Sales\"))\n",
    "df=df.groupBy(\"Item_Fat_Content\").agg(max(col(\"Item_Outlet_Sales\")).alias(\"Highest Sales\"))\n",
    "df.display()"
   ]
  },
  {
   "cell_type": "markdown",
   "metadata": {
    "application/vnd.databricks.v1+cell": {
     "cellMetadata": {},
     "inputWidgets": {},
     "nuid": "27a52e25-b0a7-4fa2-a844-c25c9b96bd58",
     "showTitle": false,
     "tableResultSettingsMap": {},
     "title": ""
    }
   },
   "source": [
    "**pivot(),  unpivot(), cube() / rollup()**"
   ]
  },
  {
   "cell_type": "code",
   "execution_count": 0,
   "metadata": {
    "application/vnd.databricks.v1+cell": {
     "cellMetadata": {
      "byteLimit": 2048000,
      "rowLimit": 10000
     },
     "inputWidgets": {},
     "nuid": "80ff890f-2c39-48f7-a0d9-3961b85888b9",
     "showTitle": false,
     "tableResultSettingsMap": {
      "0": {
       "dataGridStateBlob": "{\"version\":1,\"tableState\":{\"columnPinning\":{\"left\":[\"#row_number#\"],\"right\":[]},\"columnSizing\":{},\"columnVisibility\":{}},\"settings\":{\"columns\":{}},\"syncTimestamp\":1753107793719}",
       "filterBlob": null,
       "queryPlanFiltersBlob": null,
       "tableResultIndex": 0
      }
     },
     "title": ""
    }
   },
   "outputs": [],
   "source": [
    "from pyspark.sql.functions import col\n",
    "df= spark.read.option(\"header\", \"True\").csv(\"abfss://source@rxdbstorageaccount.dfs.core.windows.net/Sales.csv\")\n",
    "df=df.select(\"Item_Fat_Content\",\"Item_type\", col(\"Item_Outlet_Sales\").cast(\"float\"))\n",
    "#df.display()\n",
    "# df=df.groupBy(\"Item_Fat_Content\").pivot(\"Item_type\").sum(\"Item_Outlet_Sales\")\n",
    "# df.display()\n",
    "df=df.groupby(\"Item_type\").pivot(\"Item_Fat_Content\").avg(\"Item_Outlet_Sales\")\n",
    "#df.display()\n",
    "df=df.selectExpr(\"Item_type\", \n",
    "                 \"stack(3, 'LF', `LF`, 'Regular', `Regular`, 'reg', `reg`) as (Item_Fat_Content, `Average Sales`)\"\n",
    ")\n",
    "df.display()"
   ]
  },
  {
   "cell_type": "markdown",
   "metadata": {
    "application/vnd.databricks.v1+cell": {
     "cellMetadata": {},
     "inputWidgets": {},
     "nuid": "e9bad6be-2d14-4fc3-86b4-45677a4ed81c",
     "showTitle": false,
     "tableResultSettingsMap": {},
     "title": ""
    }
   },
   "source": [
    "**cube() / rollup()**"
   ]
  },
  {
   "cell_type": "code",
   "execution_count": 0,
   "metadata": {
    "application/vnd.databricks.v1+cell": {
     "cellMetadata": {
      "byteLimit": 2048000,
      "rowLimit": 10000
     },
     "collapsed": true,
     "inputWidgets": {},
     "nuid": "16e47659-3120-4cfc-9a5d-e4eb23386b6f",
     "showTitle": false,
     "tableResultSettingsMap": {},
     "title": ""
    }
   },
   "outputs": [],
   "source": [
    "from pyspark.sql.functions import col, sum\n",
    "df= spark.read.option(\"header\", \"True\").csv(\"abfss://source@rxdbstorageaccount.dfs.core.windows.net/Sales.csv\")\n",
    "df=df.select(\"Item_Fat_Content\",\"Item_type\", col(\"Item_Outlet_Sales\").cast(\"float\"))\n",
    "#df.display()\n",
    "# df=df.rollup(\"Item_Fat_Content\", \"Item_type\").agg(sum(col(\"Item_Outlet_Sales\")).alias(\"Total Sales\"))\n",
    "# df.filter(col(\"Item_type\").isNull()).display()\n",
    "df = df.cube(\"Item_Fat_Content\", \"Item_type\").agg(sum(col(\"Item_Outlet_Sales\")).alias(\"Total Sales\"))\n",
    "# df.display()\n",
    "#df=df.filter(col(\"Item_type\").isNull() & col(\"Item_Fat_Content\").isNull())\n",
    "# df.display()\n",
    "# df=df.filter(col(\"Item_type\").isNull())\n",
    "# df.display()\n",
    "df=df.filter(col(\"Item_Fat_Content\").isNull())\n",
    "df.display()\n"
   ]
  },
  {
   "cell_type": "markdown",
   "metadata": {
    "application/vnd.databricks.v1+cell": {
     "cellMetadata": {},
     "inputWidgets": {},
     "nuid": "e17416cd-dc5e-4dcb-9054-5bdf2e0b17e3",
     "showTitle": false,
     "tableResultSettingsMap": {},
     "title": ""
    }
   },
   "source": []
  },
  {
   "cell_type": "markdown",
   "metadata": {
    "application/vnd.databricks.v1+cell": {
     "cellMetadata": {},
     "inputWidgets": {},
     "nuid": "6ea6d823-6b58-46c6-b868-4c232e77df70",
     "showTitle": false,
     "tableResultSettingsMap": {},
     "title": ""
    }
   },
   "source": [
    "### Window Functions"
   ]
  },
  {
   "cell_type": "markdown",
   "metadata": {
    "application/vnd.databricks.v1+cell": {
     "cellMetadata": {},
     "inputWidgets": {},
     "nuid": "d26f6860-6e05-4e3f-ae49-11e7c917e87f",
     "showTitle": false,
     "tableResultSettingsMap": {},
     "title": ""
    }
   },
   "source": [
    "**row_number(), rank()/dense_rank(), lag() / lead(), ntile(), sum() over, avg() over, etc.**"
   ]
  },
  {
   "cell_type": "code",
   "execution_count": 0,
   "metadata": {
    "application/vnd.databricks.v1+cell": {
     "cellMetadata": {
      "byteLimit": 2048000,
      "rowLimit": 10000
     },
     "collapsed": true,
     "inputWidgets": {},
     "nuid": "998958f3-0e85-4cfd-83f6-81bf6d967ad4",
     "showTitle": false,
     "tableResultSettingsMap": {
      "0": {
       "dataGridStateBlob": "{\"version\":1,\"tableState\":{\"columnPinning\":{\"left\":[\"#row_number#\"],\"right\":[]},\"columnSizing\":{},\"columnVisibility\":{}},\"settings\":{\"columns\":{}},\"syncTimestamp\":1753118956980}",
       "filterBlob": null,
       "queryPlanFiltersBlob": null,
       "tableResultIndex": 0
      }
     },
     "title": ""
    }
   },
   "outputs": [],
   "source": [
    "from pyspark.sql.functions import row_number, rank, dense_rank, col, avg, lag, lead, ntile\n",
    "from pyspark.sql.window import Window\n",
    "\n",
    "df= spark.read.option(\"header\", \"True\").csv(\"abfss://source@rxdbstorageaccount.dfs.core.windows.net/Sales.csv\")\n",
    "#df.display()\n",
    "# windowSpec = Window.orderBy(col(\"Item_Outlet_Sales\"))\n",
    "# df=df.withColumn(\"row_number\", row_number().over(windowSpec))\n",
    "# df.display()\n",
    "# windowSpec = Window.orderBy(col(\"Item_Outlet_Sales\"))\n",
    "# df = df.withColumn(\"rank\", rank().over(windowSpec))\n",
    "# df.display()\n",
    "# windowSpec=Window.orderBy(col(\"Item_Outlet_Sales\"))\n",
    "# df=df.withColumn(\"dense_rank\", dense_rank().over(windowSpec))\n",
    "# df.display()\n",
    "# windowSpec=Window.partitionBy(col(\"Outlet_Location_Type\")).orderBy(col(\"Item_Outlet_Sales\"))\n",
    "# df=df.withColumn(\"dense_rank\", dense_rank().over(windowSpec))\n",
    "# df.display()\n",
    "# windowSpec= Window.partitionBy(col(\"Outlet_Location_Type\"))\n",
    "# df=df.withColumn(\"sum\", sum(col(\"Item_Outlet_Sales\")).over(windowSpec))\n",
    "# df.display()\n",
    "# windowSpec=Window.partitionBy(col(\"Outlet_Location_Type\"))\n",
    "# df=df.withColumn(\"avg\", avg(col(\"Item_Outlet_Sales\")).over(windowSpec))\n",
    "# df.display()\n",
    "# windowSpec=Window.orderBy(col(\"Item_Outlet_Sales\"))\n",
    "# df=df.withColumn(\"Prev_Sales\", lag(col(\"Item_Outlet_Sales\"), 1).over(windowSpec))\n",
    "# df.display()\n",
    "# windowSpec=Window.orderBy(col(\"Item_Outlet_Sales\"))\n",
    "# df=df.withColumn(\"Next_Sales\", lead(col(\"Item_Outlet_Sales\"),1).over(windowSpec))\n",
    "# df.display()\n",
    "windowSpec=Window.partitionBy(\"Outlet_Location_Type\").orderBy(col(\"Item_Outlet_Sales\"))\n",
    "df=df.withColumn(\"Ntile\", ntile(4).over(windowSpec))\n",
    "df.display()\n",
    "\n",
    "\n",
    "\n"
   ]
  },
  {
   "cell_type": "markdown",
   "metadata": {
    "application/vnd.databricks.v1+cell": {
     "cellMetadata": {},
     "inputWidgets": {},
     "nuid": "661985e2-01b4-4ad9-af94-b4ec95e133a2",
     "showTitle": false,
     "tableResultSettingsMap": {},
     "title": ""
    }
   },
   "source": [
    "joins: join(),broadcast()\tcrossjoin(), Datetime: current_date() / current_timestamp(), datediff() / date_add() / date_sub(), to_date() / to_timestamp(), year() / month() / dayofweek(), unix_timestamp()\tUser Defined Functions (UDFs): udf(), pandas_udf(), sql.functions.expr()\t🔹 11. Set Operations: intersect()\t, union() / unionByName()\t, except()\t, subtract()\texplode()\tposexplode()\tcreate_map() / map_keys() / map_values()\tarray_contains() / size()\t🔹 13. Complex Types: Struct, Array, Map: withField() / dropFields()\tgetField()\texplode()\t🔹 14. File & Storage Transformations\n",
    ": read.format().load()\twrite.format().save()\tpartitionBy()\trepartition() / coalesce()\t🔹 15. SQL-based Transformations\n",
    ": spark.sql()\tCREATE OR REPLACE VIEW\tCTE (WITH)\tMERGE INTO\t🔹 16. Delta Lake-Specific Operations: MERGE, UPDATE / DELETE\tOPTIMIZE / VACUUM\tTIME TRAVEL\tGENERATE SYNTAX FOR CHANGE DATA FEED\t🔹 17. Streaming Transformations (Structured Streaming): readStream() / writeStream() trigger() watermark() outputMode(\"append\" / \"update\" / \"complete\")\n"
   ]
  }
 ],
 "metadata": {
  "application/vnd.databricks.v1+notebook": {
   "computePreferences": null,
   "dashboards": [],
   "environmentMetadata": {
    "base_environment": "",
    "environment_version": "2"
   },
   "inputWidgetPreferences": null,
   "language": "python",
   "notebookMetadata": {
    "mostRecentlyExecutedCommandWithImplicitDF": {
     "commandId": 6378110279689964,
     "dataframes": [
      "_sqldf"
     ]
    },
    "pythonIndentUnit": 4
   },
   "notebookName": "dbLearn",
   "widgets": {}
  },
  "language_info": {
   "name": "python"
  }
 },
 "nbformat": 4,
 "nbformat_minor": 0
}
