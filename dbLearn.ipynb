{
 "cells": [
  {
   "cell_type": "markdown",
   "metadata": {
    "application/vnd.databricks.v1+cell": {
     "cellMetadata": {},
     "inputWidgets": {},
     "nuid": "ed5f043a-8b23-460c-b8cd-803c39f34dd5",
     "showTitle": false,
     "tableResultSettingsMap": {},
     "title": ""
    }
   },
   "source": [
    "# Databrick Tutorial\n",
    "### Creating a databricks workspace and connecting to azure storage\n",
    "1. Azure: Go to the azure and search for databricks. Enter the details and create a databricks workspace\n",
    "2. Azure: search for \"Access Connector for databrick\" in azure and create one\n",
    "3. Azure: Create a storage account and two containers one for source and one destination\n",
    "4. Azure: Go to storage account and give \"storage blob data contributor\" permission to the \"access connector for databricks\"\n",
    "5. Databricks: Go to catalogs and create a new storage credential and provide \"access connector ID\" to the storage credentials\n",
    "6. Databricks: create a new external location and provde the file path in the following format \"abfss://<container_name>@<storage_account_name>.dfs.core.windows.net/<path>/file.csv. also select the storage credentials you created earlier\n",
    "7. After the access the file from the notebook using the below command\n",
    "    file_path = \"abfss://source@rxdbstorageaccount.dfs.core.windows.net/Sales.csv\"\n",
    "    file_content = dbutils.fs.head(file_path)\n",
    "    print(file_content)\n"
   ]
  },
  {
   "cell_type": "markdown",
   "metadata": {
    "application/vnd.databricks.v1+cell": {
     "cellMetadata": {},
     "inputWidgets": {},
     "nuid": "862fd4fa-b453-4564-b827-fffdcd02b1d8",
     "showTitle": false,
     "tableResultSettingsMap": {},
     "title": ""
    }
   },
   "source": [
    "**Accessing a file in the Azure ADLS 2**"
   ]
  },
  {
   "cell_type": "code",
   "execution_count": 0,
   "metadata": {
    "application/vnd.databricks.v1+cell": {
     "cellMetadata": {
      "byteLimit": 2048000,
      "rowLimit": 10000
     },
     "inputWidgets": {},
     "nuid": "58ba61d9-e9ae-4a46-8956-d858f42fe8c0",
     "showTitle": false,
     "tableResultSettingsMap": {},
     "title": ""
    }
   },
   "outputs": [],
   "source": [
    "#Option 1\n",
    "file_path = \"abfss://source@rxdbstorageaccount.dfs.core.windows.net/Sales.csv\"\n",
    "file_content = dbutils.fs.head(file_path)\n",
    "print(file_content) \n",
    "\n",
    "#Option 2\n",
    "# df = spark.read.option(\"header\", \"true\").csv(\"abfss://source@rxdbstorageaccount.dfs.core.windows.net/Sales.csv\")\n",
    "# df.display()"
   ]
  },
  {
   "cell_type": "markdown",
   "metadata": {
    "application/vnd.databricks.v1+cell": {
     "cellMetadata": {},
     "inputWidgets": {},
     "nuid": "812060cd-bb28-492c-ba9d-6ef89912b1d8",
     "showTitle": false,
     "tableResultSettingsMap": {},
     "title": ""
    }
   },
   "source": [
    "**Listing files in a contaioner**"
   ]
  },
  {
   "cell_type": "code",
   "execution_count": 0,
   "metadata": {
    "application/vnd.databricks.v1+cell": {
     "cellMetadata": {
      "byteLimit": 2048000,
      "rowLimit": 10000
     },
     "inputWidgets": {},
     "nuid": "a3cf6c20-e1f1-4154-be6a-683283d8fb31",
     "showTitle": false,
     "tableResultSettingsMap": {},
     "title": ""
    }
   },
   "outputs": [],
   "source": [
    "display(dbutils.fs.ls(\"abfss://source@rxdbstorageaccount.dfs.core.windows.net/\"))\n",
    "\n"
   ]
  },
  {
   "cell_type": "markdown",
   "metadata": {
    "application/vnd.databricks.v1+cell": {
     "cellMetadata": {},
     "inputWidgets": {},
     "nuid": "444154e1-ae59-495f-8fe8-f661fbbbb9d8",
     "showTitle": false,
     "tableResultSettingsMap": {},
     "title": ""
    }
   },
   "source": [
    "**Copy file from one container to another**\n"
   ]
  },
  {
   "cell_type": "code",
   "execution_count": 0,
   "metadata": {
    "application/vnd.databricks.v1+cell": {
     "cellMetadata": {
      "byteLimit": 2048000,
      "rowLimit": 10000
     },
     "collapsed": true,
     "inputWidgets": {},
     "nuid": "f9053c1a-59fa-4b70-816b-32989849b35f",
     "showTitle": false,
     "tableResultSettingsMap": {},
     "title": ""
    }
   },
   "outputs": [],
   "source": [
    "df = spark.read.option(\"header\", \"true\").csv(\"abfss://source@rxdbstorageaccount.dfs.core.windows.net/Sales.csv\")\n",
    "df.write.mode(\"overwrite\").csv(\"abfss://destination@rxdbstorageaccount.dfs.core.windows.net/Sales_Copy\")\n"
   ]
  },
  {
   "cell_type": "code",
   "execution_count": 0,
   "metadata": {
    "application/vnd.databricks.v1+cell": {
     "cellMetadata": {
      "byteLimit": 2048000,
      "rowLimit": 10000
     },
     "collapsed": true,
     "inputWidgets": {},
     "nuid": "e25eb526-6844-4982-b5cf-3d68dc7efd63",
     "showTitle": false,
     "tableResultSettingsMap": {},
     "title": ""
    }
   },
   "outputs": [],
   "source": [
    "dbutils.fs.ls('/databricks-datasets/')"
   ]
  },
  {
   "cell_type": "markdown",
   "metadata": {
    "application/vnd.databricks.v1+cell": {
     "cellMetadata": {},
     "inputWidgets": {},
     "nuid": "cb1ff73f-494a-4784-8546-7b60a600fab1",
     "showTitle": false,
     "tableResultSettingsMap": {},
     "title": ""
    }
   },
   "source": [
    "## Transformations"
   ]
  },
  {
   "cell_type": "markdown",
   "metadata": {
    "application/vnd.databricks.v1+cell": {
     "cellMetadata": {},
     "inputWidgets": {},
     "nuid": "7b62aea4-2964-43af-901a-634cd96b547a",
     "showTitle": false,
     "tableResultSettingsMap": {},
     "title": ""
    }
   },
   "source": [
    "**Select and Drop**"
   ]
  },
  {
   "cell_type": "code",
   "execution_count": 0,
   "metadata": {
    "application/vnd.databricks.v1+cell": {
     "cellMetadata": {
      "byteLimit": 2048000,
      "rowLimit": 10000
     },
     "collapsed": true,
     "inputWidgets": {},
     "nuid": "38cd1bc9-906e-4c01-bbba-aed0084437e3",
     "showTitle": false,
     "tableResultSettingsMap": {
      "0": {
       "dataGridStateBlob": "{\"version\":1,\"tableState\":{\"columnPinning\":{\"left\":[\"#row_number#\"],\"right\":[]},\"columnSizing\":{},\"columnVisibility\":{}},\"settings\":{\"columns\":{}},\"syncTimestamp\":1752958637269}",
       "filterBlob": null,
       "queryPlanFiltersBlob": null,
       "tableResultIndex": 0
      }
     },
     "title": ""
    }
   },
   "outputs": [],
   "source": [
    "# Read the file from the Azure storage into a spark data frame\n",
    "df = spark.read.option(\"header\", \"true\").csv(\"abfss://source@rxdbstorageaccount.dfs.core.windows.net/Sales.csv\")\n",
    "#display the data in spark environment\n",
    "#df.display()\n",
    "df_select = df.select(\"Item_Identifier\", \"Item_Outlet_Sales\", \"Item_Weight\")\n",
    "\n",
    "#df_select.display()\n",
    "# not formatted highly and is suppoprted in opyspark\n",
    "#df_select.show()\n",
    "\n",
    "# drop specific columns from the data frame\n",
    "df_drop=df_select.drop(\"Item_Weight\")\n",
    "df_drop.display()\n",
    "\n"
   ]
  },
  {
   "cell_type": "markdown",
   "metadata": {
    "application/vnd.databricks.v1+cell": {
     "cellMetadata": {},
     "inputWidgets": {},
     "nuid": "0889b297-94bc-413c-82a7-c27cc5469625",
     "showTitle": false,
     "tableResultSettingsMap": {},
     "title": ""
    }
   },
   "source": [
    "**withColumnRenamed, withColumn, lit, cast, when**"
   ]
  },
  {
   "cell_type": "code",
   "execution_count": 0,
   "metadata": {
    "application/vnd.databricks.v1+cell": {
     "cellMetadata": {
      "byteLimit": 2048000,
      "rowLimit": 10000
     },
     "collapsed": true,
     "inputWidgets": {},
     "nuid": "36598277-2199-4fa3-a272-b1b6fbda63f4",
     "showTitle": false,
     "tableResultSettingsMap": {
      "0": {
       "dataGridStateBlob": "{\"version\":1,\"tableState\":{\"columnPinning\":{\"left\":[\"#row_number#\"],\"right\":[]},\"columnSizing\":{},\"columnVisibility\":{}},\"settings\":{\"columns\":{}},\"syncTimestamp\":1752959913627}",
       "filterBlob": null,
       "queryPlanFiltersBlob": null,
       "tableResultIndex": 0
      }
     },
     "title": ""
    }
   },
   "outputs": [],
   "source": [
    "# df = spark.read.option(\"header\", \"True\").csv(\"abfss://source@rxdbstorageaccount.dfs.core.windows.net/Sales.csv\")\n",
    "# df = df.withColumnRenamed(\"Item_Identifier\", \"ItemID\")\n",
    "# df.display()\n",
    "\n",
    "import pyspark.sql.functions as F\n",
    "from pyspark.sql.functions import col, when, lit\n",
    "df = spark.read.option(\"header\", \"True\").csv(\"abfss://source@rxdbstorageaccount.dfs.core.windows.net/Sales.csv\")\n",
    "from pyspark.sql.types import FloatType\n",
    "df = df.withColumn(\"Item_Weight_Category\", when(col(\"Item_Weight\").cast(FloatType())>10, lit(\"high\")).otherwise(when (col(\"Item_Weight\").cast(FloatType())>5, lit(\"medium\")).otherwise(lit(\"low\"))))\n",
    "\n",
    "df.display()\n",
    "\n"
   ]
  },
  {
   "cell_type": "code",
   "execution_count": 0,
   "metadata": {
    "application/vnd.databricks.v1+cell": {
     "cellMetadata": {},
     "inputWidgets": {},
     "nuid": "3ea30f28-5806-4098-8405-6aa996ce4edf",
     "showTitle": false,
     "tableResultSettingsMap": {},
     "title": ""
    }
   },
   "outputs": [],
   "source": []
  }
 ],
 "metadata": {
  "application/vnd.databricks.v1+notebook": {
   "computePreferences": null,
   "dashboards": [],
   "environmentMetadata": {
    "base_environment": "",
    "environment_version": "2"
   },
   "inputWidgetPreferences": null,
   "language": "python",
   "notebookMetadata": {
    "mostRecentlyExecutedCommandWithImplicitDF": {
     "commandId": 6378110279689964,
     "dataframes": [
      "_sqldf"
     ]
    },
    "pythonIndentUnit": 4
   },
   "notebookName": "dbLearn",
   "widgets": {}
  },
  "language_info": {
   "name": "python"
  }
 },
 "nbformat": 4,
 "nbformat_minor": 0
}
