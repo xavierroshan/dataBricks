{
 "cells": [
  {
   "cell_type": "markdown",
   "metadata": {
    "application/vnd.databricks.v1+cell": {
     "cellMetadata": {},
     "inputWidgets": {},
     "nuid": "d08decc5-eb45-4828-b70f-1e74fffde29b",
     "showTitle": false,
     "tableResultSettingsMap": {},
     "title": ""
    }
   },
   "source": [
    "\n",
    "1. Create a catalog\n",
    "2. In the catalog create credentials. Use the \"Access Connector for databrick\" subscription_id to setup crentials to access azure\n",
    "3. Create an external location for \"source\" and \"sink\" and attach the credentails to it\n",
    "4. Create a schema using the command CREATE SCHEMA IF NOT EXISTS my_catalog.my_schema;\n",
    "5. Create external table for csv file using the command: CREATE EXTERNAL TABLE my_catalog.my_schema.my_csv_table\n",
    "USING CSV\n",
    "LOCATION 'abfss://<container-name>@<storage-account-name>.dfs.core.windows.net/path/to/csv/file.csv'\n",
    "OPTIONS ('header' 'true', 'inferSchema' 'true');\n",
    "6. You can also create a external volume using the below command to have a local volume of your azure source. Create a separate folder or container for volumes. Do not use the same source you have used for sql tables: CREATE EXTERNAL VOLUME my_catalog.my_schema.my_volume. Once this is done you can load from catalog rather than abss:// using the following \"CREATE External VOLUME my_catalog.my_schema.my_volume\"\n"
   ]
  },
  {
   "cell_type": "code",
   "execution_count": 0,
   "metadata": {
    "application/vnd.databricks.v1+cell": {
     "cellMetadata": {
      "byteLimit": 2048000,
      "rowLimit": 10000
     },
     "collapsed": true,
     "inputWidgets": {},
     "nuid": "6d3dc123-d7ea-4170-be2d-16e2f40c4ec6",
     "showTitle": false,
     "tableResultSettingsMap": {},
     "title": ""
    }
   },
   "outputs": [],
   "source": [
    "df = spark.read.csv(\"/Volumes/dbvolume/rx_schema/customer/customers_data.csv\")\n",
    "df.display()"
   ]
  },
  {
   "cell_type": "code",
   "execution_count": 0,
   "metadata": {
    "application/vnd.databricks.v1+cell": {
     "cellMetadata": {
      "byteLimit": 2048000,
      "rowLimit": 10000
     },
     "inputWidgets": {},
     "nuid": "77ee521f-bb1f-480f-a6d5-ee0ce5f544c9",
     "showTitle": false,
     "tableResultSettingsMap": {},
     "title": ""
    }
   },
   "outputs": [],
   "source": [
    "spark.sql(\"MSCK REPAIR TABLE delta.`abfss://source@rxdbstorageaccount.dfs.core.windows.net/delta/delta_table_2`\")\n"
   ]
  }
 ],
 "metadata": {
  "application/vnd.databricks.v1+notebook": {
   "computePreferences": null,
   "dashboards": [],
   "environmentMetadata": {
    "base_environment": "",
    "environment_version": "2"
   },
   "inputWidgetPreferences": null,
   "language": "python",
   "notebookMetadata": {
    "pythonIndentUnit": 4
   },
   "notebookName": "databrick_Ecosystem",
   "widgets": {}
  },
  "language_info": {
   "name": "python"
  }
 },
 "nbformat": 4,
 "nbformat_minor": 0
}
