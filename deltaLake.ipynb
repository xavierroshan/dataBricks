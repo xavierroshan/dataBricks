{
 "cells": [
  {
   "cell_type": "markdown",
   "metadata": {
    "application/vnd.databricks.v1+cell": {
     "cellMetadata": {},
     "inputWidgets": {},
     "nuid": "871a9c15-b467-4106-8094-ccafff0ce7ff",
     "showTitle": false,
     "tableResultSettingsMap": {},
     "title": ""
    }
   },
   "source": [
    "# Delta Lake Tutorial\n"
   ]
  },
  {
   "cell_type": "markdown",
   "metadata": {
    "application/vnd.databricks.v1+cell": {
     "cellMetadata": {},
     "inputWidgets": {},
     "nuid": "d8c6f02c-b0e5-4d3f-86bf-204a30e1860f",
     "showTitle": false,
     "tableResultSettingsMap": {},
     "title": ""
    }
   },
   "source": [
    "**Loading a csv to a spark df and then writing it as delta table**"
   ]
  },
  {
   "cell_type": "code",
   "execution_count": 0,
   "metadata": {
    "application/vnd.databricks.v1+cell": {
     "cellMetadata": {
      "byteLimit": 2048000,
      "rowLimit": 10000
     },
     "inputWidgets": {},
     "nuid": "07fd8ccc-fa1a-4d93-9cd4-291aa2adcd27",
     "showTitle": false,
     "tableResultSettingsMap": {},
     "title": ""
    }
   },
   "outputs": [],
   "source": [
    "# Reading a CSV file from the azure storage container\n",
    "df = spark.read.option(\"header\",\"true\").csv(\"abfss://deltasource@rxdbstorageaccount.dfs.core.windows.net/customers.csv\")\n",
    "df.display()\n",
    "# Writing the csv as a delta table to azure storage container\n",
    "df.write.format(\"delta\").mode(\"overwrite\").save(\"abfss://deltastaging@rxdbstorageaccount.dfs.core.windows.net/\")"
   ]
  },
  {
   "cell_type": "markdown",
   "metadata": {
    "application/vnd.databricks.v1+cell": {
     "cellMetadata": {},
     "inputWidgets": {},
     "nuid": "eda9b2d9-5338-4773-91d3-84444464a1c4",
     "showTitle": false,
     "tableResultSettingsMap": {},
     "title": ""
    }
   },
   "source": [
    "**Reading Delta Tables**"
   ]
  },
  {
   "cell_type": "code",
   "execution_count": 0,
   "metadata": {
    "application/vnd.databricks.v1+cell": {
     "cellMetadata": {
      "byteLimit": 2048000,
      "rowLimit": 10000
     },
     "collapsed": true,
     "inputWidgets": {},
     "nuid": "db6d8710-d001-461b-b1cc-b48973725a6c",
     "showTitle": false,
     "tableResultSettingsMap": {},
     "title": ""
    }
   },
   "outputs": [],
   "source": [
    "#Reading a delta table for the azure storage\n",
    "df = spark.read.format(\"delta\").load(\"abfss://deltastaging@rxdbstorageaccount.dfs.core.windows.net/\")\n",
    "df.display()"
   ]
  },
  {
   "cell_type": "markdown",
   "metadata": {
    "application/vnd.databricks.v1+cell": {
     "cellMetadata": {},
     "inputWidgets": {},
     "nuid": "0fcb8677-806f-4743-9df3-6b1da4159f4a",
     "showTitle": false,
     "tableResultSettingsMap": {},
     "title": ""
    }
   },
   "source": [
    "**Appending delta _tables_**"
   ]
  },
  {
   "cell_type": "code",
   "execution_count": 0,
   "metadata": {
    "application/vnd.databricks.v1+cell": {
     "cellMetadata": {
      "byteLimit": 2048000,
      "rowLimit": 10000
     },
     "collapsed": true,
     "inputWidgets": {},
     "nuid": "b8fb1795-0be2-423b-9334-aa3eaed79c1e",
     "showTitle": false,
     "tableResultSettingsMap": {},
     "title": ""
    }
   },
   "outputs": [],
   "source": [
    "#Reading data from the existing delta table for appending\n",
    "#df = spark.read.format(\"delta\").load(\"abfss://deltastaging@rxdbstorageaccount.dfs.core.windows.net/\")\n",
    "#Option2: Reading data from the csv file for appending\n",
    "df = spark.read.option(\"header\",\"true\").csv(\"abfss://deltasource@rxdbstorageaccount.dfs.core.windows.net/customers.csv\")\n",
    "df.write.mode(\"append\").format(\"delta\").save(\"abfss://deltastaging@rxdbstorageaccount.dfs.core.windows.net/\")\n"
   ]
  },
  {
   "cell_type": "code",
   "execution_count": 0,
   "metadata": {
    "application/vnd.databricks.v1+cell": {
     "cellMetadata": {
      "byteLimit": 2048000,
      "rowLimit": 10000
     },
     "collapsed": true,
     "inputWidgets": {},
     "nuid": "a411f17e-2746-4452-b321-1d39737a853d",
     "showTitle": false,
     "tableResultSettingsMap": {},
     "title": ""
    }
   },
   "outputs": [],
   "source": [
    "#verifing the data append\n",
    "df = spark.read.format(\"delta\").load(\"abfss://deltastaging@rxdbstorageaccount.dfs.core.windows.net/\")\n",
    "df.display()"
   ]
  },
  {
   "cell_type": "markdown",
   "metadata": {
    "application/vnd.databricks.v1+cell": {
     "cellMetadata": {},
     "inputWidgets": {},
     "nuid": "78ee6363-5903-4540-8ad2-e7c2777a31e3",
     "showTitle": false,
     "tableResultSettingsMap": {},
     "title": ""
    }
   },
   "source": [
    "**Schema Enforcement & Schema evolution**"
   ]
  },
  {
   "cell_type": "code",
   "execution_count": 0,
   "metadata": {
    "application/vnd.databricks.v1+cell": {
     "cellMetadata": {
      "byteLimit": 2048000,
      "rowLimit": 10000
     },
     "collapsed": true,
     "inputWidgets": {},
     "nuid": "90544824-a361-4539-b732-e54858ea3371",
     "showTitle": false,
     "tableResultSettingsMap": {},
     "title": ""
    }
   },
   "outputs": [],
   "source": [
    "from pyspark.sql.functions import lit\n",
    "# Adding an incompatible schema to check how delta lake handles\n",
    "df = spark.read.format(\"delta\").load(\"abfss://deltastaging@rxdbstorageaccount.dfs.core.windows.net/\")\n",
    "df = df.withColumn(\"new_column\", lit(\"new_column\"))\n",
    "#try to append the incompatible schema\n",
    "#df.write.mode(\"append\").format(\"delta\").save(\"abfss://deltastaging@rxdbstorageaccount.dfs.core.windows.net/\")\n",
    "#try schema evolution\n",
    "df.write.mode(\"append\").option(\"mergeSchema\", \"true\").format(\"delta\").save(\"abfss://deltastaging@rxdbstorageaccount.dfs.core.windows.net/\")\n",
    "#read the new table\n",
    "df = spark.read.format(\"delta\").load(\"abfss://deltastaging@rxdbstorageaccount.dfs.core.windows.net/\")\n",
    "df.display()\n"
   ]
  },
  {
   "cell_type": "markdown",
   "metadata": {
    "application/vnd.databricks.v1+cell": {
     "cellMetadata": {},
     "inputWidgets": {},
     "nuid": "5ec2640a-b79e-4320-9174-a98148dcb482",
     "showTitle": false,
     "tableResultSettingsMap": {},
     "title": ""
    }
   },
   "source": [
    "**Time Travel & History**"
   ]
  },
  {
   "cell_type": "code",
   "execution_count": 0,
   "metadata": {
    "application/vnd.databricks.v1+cell": {
     "cellMetadata": {
      "byteLimit": 2048000,
      "implicitDf": true,
      "rowLimit": 10000
     },
     "inputWidgets": {},
     "nuid": "3b50f755-46d0-4a2e-b796-ef9fd8364450",
     "showTitle": false,
     "tableResultSettingsMap": {},
     "title": ""
    }
   },
   "outputs": [],
   "source": [
    "%sql\n",
    "--- describe the history of delta file\n",
    "DESCRIBE HISTORY 'abfss://deltastaging@rxdbstorageaccount.dfs.core.windows.net/'"
   ]
  },
  {
   "cell_type": "markdown",
   "metadata": {
    "application/vnd.databricks.v1+cell": {
     "cellMetadata": {},
     "inputWidgets": {},
     "nuid": "d93c4400-a199-434c-bcd2-e850000eaf3c",
     "showTitle": false,
     "tableResultSettingsMap": {},
     "title": ""
    }
   },
   "source": [
    "**Read previous versions**"
   ]
  },
  {
   "cell_type": "code",
   "execution_count": 0,
   "metadata": {
    "application/vnd.databricks.v1+cell": {
     "cellMetadata": {
      "byteLimit": 2048000,
      "rowLimit": 10000
     },
     "collapsed": true,
     "inputWidgets": {},
     "nuid": "aef43757-7de9-4f1c-a103-906a2b209da2",
     "showTitle": false,
     "tableResultSettingsMap": {},
     "title": ""
    }
   },
   "outputs": [],
   "source": [
    "# Read a specific version of Delta Table and display it\n",
    "df_v1 = spark.read.format(\"delta\").option(\"versionAsOf\", 3).load(\"abfss://deltastaging@rxdbstorageaccount.dfs.core.windows.net/\")\n",
    "df_v1.display()"
   ]
  },
  {
   "cell_type": "code",
   "execution_count": 0,
   "metadata": {
    "application/vnd.databricks.v1+cell": {
     "cellMetadata": {
      "byteLimit": 2048000,
      "rowLimit": 10000
     },
     "collapsed": true,
     "inputWidgets": {},
     "nuid": "ddefdf97-6683-40cc-8078-3b8ab91e58e0",
     "showTitle": false,
     "tableResultSettingsMap": {},
     "title": ""
    }
   },
   "outputs": [],
   "source": [
    "from pyspark.sql.functions import *\n",
    "from delta.tables import DeltaTable\n",
    "#Load delta table as DeltaTable object.\n",
    "delta_table = DeltaTable.forPath(spark, \"abfss://deltastaging@rxdbstorageaccount.dfs.core.windows.net/\")\n",
    "delta_table.restoreToVersion(0)\n",
    "display(delta_table.toDF())"
   ]
  },
  {
   "cell_type": "code",
   "execution_count": 0,
   "metadata": {
    "application/vnd.databricks.v1+cell": {
     "cellMetadata": {
      "byteLimit": 2048000,
      "rowLimit": 10000
     },
     "collapsed": true,
     "inputWidgets": {},
     "nuid": "356ec62c-26e8-4e0f-a3cd-189d38c35a9e",
     "showTitle": false,
     "tableResultSettingsMap": {},
     "title": ""
    }
   },
   "outputs": [],
   "source": [
    "#verify the data by reading\n",
    "df = spark.read.format(\"delta\").load(\"abfss://deltastaging@rxdbstorageaccount.dfs.core.windows.net/\")\n",
    "df.display()"
   ]
  },
  {
   "cell_type": "markdown",
   "metadata": {
    "application/vnd.databricks.v1+cell": {
     "cellMetadata": {},
     "inputWidgets": {},
     "nuid": "1387c1fb-ca4f-4500-8d90-f4c40b253f97",
     "showTitle": false,
     "tableResultSettingsMap": {},
     "title": ""
    }
   },
   "source": [
    "**Merge operations - update and Insert operation**"
   ]
  },
  {
   "cell_type": "code",
   "execution_count": 0,
   "metadata": {
    "application/vnd.databricks.v1+cell": {
     "cellMetadata": {
      "byteLimit": 2048000,
      "rowLimit": 10000
     },
     "inputWidgets": {},
     "nuid": "4a108105-ddf3-4966-b93c-369ce86676ec",
     "showTitle": false,
     "tableResultSettingsMap": {},
     "title": ""
    }
   },
   "outputs": [],
   "source": [
    "from delta.tables import DeltaTable\n",
    "# Load csv file with updates\n",
    "update_df=spark.read.option(\"header\",\"true\").csv(\"abfss://deltasource@rxdbstorageaccount.dfs.core.windows.net/updates.csv\")\n",
    "# Droping column to match the delta table schema\n",
    "update_df=update_df.drop(\"new_column\")\n",
    "update_df.display()\n",
    "#Load and display delta table\n",
    "delta_table=DeltaTable.forPath(spark, \"abfss://deltastaging@rxdbstorageaccount.dfs.core.windows.net/\")\n",
    "display(delta_table.toDF())\n",
    "#Performing merge operations\n",
    "delta_table.alias(\"target\").merge(source=update_df.alias(\"source\"), condition=\"target.customer_id = source.customer_id\").whenMatchedUpdateAll().whenNotMatchedInsertAll().execute()\n",
    "#Reading data after nerge operation\n",
    "df=spark.read.format(\"delta\").load(\"abfss://deltastaging@rxdbstorageaccount.dfs.core.windows.net/\")\n",
    "df.display()\n"
   ]
  },
  {
   "cell_type": "markdown",
   "metadata": {
    "application/vnd.databricks.v1+cell": {
     "cellMetadata": {},
     "inputWidgets": {},
     "nuid": "53288e07-574f-4af8-a465-347cb6a3f0e6",
     "showTitle": false,
     "tableResultSettingsMap": {},
     "title": ""
    }
   },
   "source": [
    "**delete and update operarion**"
   ]
  },
  {
   "cell_type": "code",
   "execution_count": 0,
   "metadata": {
    "application/vnd.databricks.v1+cell": {
     "cellMetadata": {
      "byteLimit": 2048000,
      "rowLimit": 10000
     },
     "inputWidgets": {},
     "nuid": "ffc06cfc-cdaf-4ccd-9f1a-75c177acd05c",
     "showTitle": false,
     "tableResultSettingsMap": {},
     "title": ""
    }
   },
   "outputs": [],
   "source": [
    "delta_table = DeltaTable.forPath(spark, \"abfss://deltastaging@rxdbstorageaccount.dfs.core.windows.net/\")\n",
    "#delta_table.history().display()\n",
    "display(delta_table.toDF())\n",
    "delta_table.delete(\"last_name == 'Clark'\")\n",
    "display(delta_table.toDF())\n",
    "delta_table.update(condition=\"country== 'IN'\", set={\"country\":\"'NZ'\"})\n",
    "display(delta_table.toDF())\n",
    "new_record = spark.createDataFrame([(\"101\", \"Sarah\", \"Wilson\", \"sarah.wilson@example.com\", \"UK\")], [\"customer_id\", \"first_name\", \"last_name\", \"email\", \"country\"])\n",
    "new_record.write.format(\"delta\").mode(\"append\").save(\"abfss://deltastaging@rxdbstorageaccount.dfs.core.windows.net/\")\n",
    "display(delta_table.toDF())"
   ]
  },
  {
   "cell_type": "markdown",
   "metadata": {
    "application/vnd.databricks.v1+cell": {
     "cellMetadata": {},
     "inputWidgets": {},
     "nuid": "939b5251-b7de-41b1-a327-f42ca590934b",
     "showTitle": false,
     "tableResultSettingsMap": {},
     "title": ""
    }
   },
   "source": [
    "### Performance and maintainance"
   ]
  },
  {
   "cell_type": "markdown",
   "metadata": {
    "application/vnd.databricks.v1+cell": {
     "cellMetadata": {},
     "inputWidgets": {},
     "nuid": "139e156a-264f-4bbf-9bc6-bf22a8ba1235",
     "showTitle": false,
     "tableResultSettingsMap": {},
     "title": ""
    }
   },
   "source": [
    "**Optimize**"
   ]
  },
  {
   "cell_type": "code",
   "execution_count": 0,
   "metadata": {
    "application/vnd.databricks.v1+cell": {
     "cellMetadata": {
      "byteLimit": 2048000,
      "rowLimit": 10000
     },
     "collapsed": true,
     "inputWidgets": {},
     "nuid": "6220b8b2-6cdd-4178-b596-d08288d2cb77",
     "showTitle": false,
     "tableResultSettingsMap": {},
     "title": ""
    }
   },
   "outputs": [],
   "source": [
    "display(delta_table.toDF())\n",
    "delta_table.optimize().executeCompaction()\n",
    "display(delta_table.toDF())\n"
   ]
  },
  {
   "cell_type": "markdown",
   "metadata": {
    "application/vnd.databricks.v1+cell": {
     "cellMetadata": {},
     "inputWidgets": {},
     "nuid": "a9119c21-9d51-4a15-b710-02364dfc4b35",
     "showTitle": false,
     "tableResultSettingsMap": {},
     "title": ""
    }
   },
   "source": [
    "**vacuum**"
   ]
  },
  {
   "cell_type": "code",
   "execution_count": 0,
   "metadata": {
    "application/vnd.databricks.v1+cell": {
     "cellMetadata": {
      "byteLimit": 2048000,
      "rowLimit": 10000
     },
     "collapsed": true,
     "inputWidgets": {},
     "nuid": "79384f35-55c3-4cd2-b647-03ece619ac48",
     "showTitle": false,
     "tableResultSettingsMap": {},
     "title": ""
    }
   },
   "outputs": [],
   "source": [
    "delta_table.vacuum(retentionHours=200)\n",
    "display(delta_table.toDF())"
   ]
  },
  {
   "cell_type": "markdown",
   "metadata": {
    "application/vnd.databricks.v1+cell": {
     "cellMetadata": {},
     "inputWidgets": {},
     "nuid": "5f9bd89d-19d3-42aa-a355-f9050b79bb6e",
     "showTitle": false,
     "tableResultSettingsMap": {},
     "title": ""
    }
   },
   "source": [
    "**Enable Change Data Feed**"
   ]
  },
  {
   "cell_type": "code",
   "execution_count": 0,
   "metadata": {
    "application/vnd.databricks.v1+cell": {
     "cellMetadata": {
      "byteLimit": 2048000,
      "rowLimit": 10000
     },
     "collapsed": true,
     "inputWidgets": {},
     "nuid": "24d426e2-f60a-400e-9b6a-9076aa1d337c",
     "showTitle": false,
     "tableResultSettingsMap": {},
     "title": ""
    }
   },
   "outputs": [],
   "source": [
    "delta_path = \"abfss://deltastaging@rxdbstorageaccount.dfs.core.windows.net/\"\n",
    "\n",
    "spark.sql(f\"\"\"\n",
    "          ALTER TABLE delta.`{delta_path}`\n",
    "          SET TBLPROPERTIES (delta.enableChangeDataFeed = true)\n",
    "          \"\"\")"
   ]
  },
  {
   "cell_type": "markdown",
   "metadata": {
    "application/vnd.databricks.v1+cell": {
     "cellMetadata": {},
     "inputWidgets": {},
     "nuid": "5eb4fdff-a413-49e4-a8c0-9a9cff33319c",
     "showTitle": false,
     "tableResultSettingsMap": {},
     "title": ""
    }
   },
   "source": [
    "**Query change feed**"
   ]
  },
  {
   "cell_type": "code",
   "execution_count": 0,
   "metadata": {
    "application/vnd.databricks.v1+cell": {
     "cellMetadata": {
      "byteLimit": 2048000,
      "rowLimit": 10000
     },
     "collapsed": true,
     "inputWidgets": {},
     "nuid": "bee018bf-2e1b-489c-8d9e-7d4bcc3bb3b9",
     "showTitle": false,
     "tableResultSettingsMap": {},
     "title": ""
    }
   },
   "outputs": [],
   "source": [
    "new_record = spark.createDataFrame([\n",
    "    (\"101\", \"Sarah\", \"Wilson\", \"sarah.wilson@example.com\", \"UK\"),\n",
    "    (\"102\", \"John\", \"Doe\", \"john.doe@example.com\", \"USA\"),\n",
    "    (\"103\", \"Emily\", \"Chen\", \"emily.chen@example.com\", \"Canada\"),\n",
    "    (\"104\", \"Raj\", \"Kumar\", \"raj.kumar@example.com\", \"India\"),\n",
    "    (\"105\", \"Anna\", \"Garcia\", \"anna.garcia@example.com\", \"Spain\")\n",
    "], [\"customer_id\", \"first_name\", \"last_name\", \"email\", \"country\"])\n",
    "\n",
    "new_record.write.format(\"delta\").mode(\"append\").save(\"abfss://deltastaging@rxdbstorageaccount.dfs.core.windows.net/\")\n",
    "delta_path = \"abfss://deltastaging@rxdbstorageaccount.dfs.core.windows.net/\"\n",
    "change_df = spark.read.format(\"delta\").option(\"readChangeFeed\", \"true\").option(\"startingVersion\",25).load(delta_path)\n",
    "change_df.display()"
   ]
  },
  {
   "cell_type": "code",
   "execution_count": 0,
   "metadata": {
    "application/vnd.databricks.v1+cell": {
     "cellMetadata": {
      "byteLimit": 2048000,
      "implicitDf": true,
      "rowLimit": 10000
     },
     "collapsed": true,
     "inputWidgets": {},
     "nuid": "a6da24b9-b609-4a3d-8bf9-17a480004655",
     "showTitle": false,
     "tableResultSettingsMap": {},
     "title": ""
    }
   },
   "outputs": [],
   "source": [
    "%sql\n",
    "DESCRIBE HISTORY delta.`abfss://deltastaging@rxdbstorageaccount.dfs.core.windows.net/`\n",
    "    \n",
    "--- read the delta file"
   ]
  },
  {
   "cell_type": "markdown",
   "metadata": {
    "application/vnd.databricks.v1+cell": {
     "cellMetadata": {},
     "inputWidgets": {},
     "nuid": "11c661ea-1214-4069-bd83-6be5454ebd97",
     "showTitle": false,
     "tableResultSettingsMap": {},
     "title": ""
    }
   },
   "source": [
    "### Partitioning"
   ]
  },
  {
   "cell_type": "markdown",
   "metadata": {
    "application/vnd.databricks.v1+cell": {
     "cellMetadata": {},
     "inputWidgets": {},
     "nuid": "31e9b555-32f6-4c8f-9319-5b0d96dbb4c8",
     "showTitle": false,
     "tableResultSettingsMap": {},
     "title": ""
    }
   },
   "source": [
    "**partitionBy**"
   ]
  },
  {
   "cell_type": "code",
   "execution_count": 0,
   "metadata": {
    "application/vnd.databricks.v1+cell": {
     "cellMetadata": {
      "byteLimit": 2048000,
      "rowLimit": 10000
     },
     "inputWidgets": {},
     "nuid": "037bdad4-a6c3-4f1d-8d93-090131daf011",
     "showTitle": false,
     "tableResultSettingsMap": {},
     "title": ""
    }
   },
   "outputs": [],
   "source": [
    "df = spark.read.option(\"header\",\"true\").csv(\"abfss://deltasource@rxdbstorageaccount.dfs.core.windows.net/customers_evolve.csv\")\n",
    "df.display()\n",
    "df.write \\\n",
    "  .format(\"delta\") \\\n",
    "  .mode(\"overwrite\") \\\n",
    "  .partitionBy(\"country\") \\\n",
    "  .save(\"abfss://destinationparti@rxdbstorageaccount.dfs.core.windows.net/partitions/delta_table_part\")\n",
    "df = spark.read.format(\"delta\").load(\"abfss://destinationparti@rxdbstorageaccount.dfs.core.windows.net/partitions/delta_table_part\")\n",
    "df.display()"
   ]
  },
  {
   "cell_type": "code",
   "execution_count": 0,
   "metadata": {
    "application/vnd.databricks.v1+cell": {
     "cellMetadata": {
      "byteLimit": 2048000,
      "rowLimit": 10000
     },
     "inputWidgets": {},
     "nuid": "a9995fff-8e90-42c3-85ad-b3f71e4766b8",
     "showTitle": false,
     "tableResultSettingsMap": {},
     "title": ""
    }
   },
   "outputs": [],
   "source": [
    "df = spark.read.format(\"delta\").load(\"abfss://destinationparti@rxdbstorageaccount.dfs.core.windows.net/partitions/delta_table_part\")\n",
    "df.display()\n"
   ]
  }
 ],
 "metadata": {
  "application/vnd.databricks.v1+notebook": {
   "computePreferences": null,
   "dashboards": [],
   "environmentMetadata": {
    "base_environment": "",
    "environment_version": "2"
   },
   "inputWidgetPreferences": null,
   "language": "python",
   "notebookMetadata": {
    "mostRecentlyExecutedCommandWithImplicitDF": {
     "commandId": 6432185752096687,
     "dataframes": [
      "_sqldf"
     ]
    },
    "pythonIndentUnit": 4
   },
   "notebookName": "deltaLake",
   "widgets": {}
  },
  "language_info": {
   "name": "python"
  }
 },
 "nbformat": 4,
 "nbformat_minor": 0
}
